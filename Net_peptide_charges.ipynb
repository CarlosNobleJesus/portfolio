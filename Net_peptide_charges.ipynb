{
 "cells": [
  {
   "cell_type": "markdown",
   "metadata": {},
   "source": [
    "## Net charge calculator for peptide sequences"
   ]
  },
  {
   "cell_type": "markdown",
   "metadata": {},
   "source": [
    "#### This notebook allows a user to input a peptide sequence made up of the one-letter name for each animo acid. It then outputs a graph showing the charge of the peptide as a function of pH."
   ]
  },
  {
   "cell_type": "markdown",
   "metadata": {},
   "source": [
    "##### The following equation is used: $z = \\sum_{i}N_{i}\\frac{10^{\\mathrm{pKa}_{i}}}{10^{\\mathrm{pH}}+10^{\\mathrm{pKa}_{i}}} - \\sum_{j}N_{j}\\frac{10^{\\mathrm{pH}}}{10^{\\mathrm{pH}}+10^{\\mathrm{pKa}_{j}}}$\n",
    "##### where $z$ = net charge, $i$ pertains to the N-terminus and positively charged side groups, $j$ pertains to the C-terminus and negatively-charged side groups, and $N$ is the number of each. "
   ]
  },
  {
   "cell_type": "markdown",
   "metadata": {},
   "source": [
    "Import the necessary modules."
   ]
  },
  {
   "cell_type": "code",
   "execution_count": 1,
   "metadata": {},
   "outputs": [],
   "source": [
    "import matplotlib.pyplot as plt\n",
    "import matplotlib.axes as Axes\n",
    "\n",
    "%matplotlib inline"
   ]
  },
  {
   "cell_type": "markdown",
   "metadata": {},
   "source": [
    "Assigns pKa values for the N-terminals and C-terminals of each amino acid, as well as the pKa of charged side groups."
   ]
  },
  {
   "cell_type": "code",
   "execution_count": 2,
   "metadata": {},
   "outputs": [],
   "source": [
    "N_terms = {'R': 9.00, 'H': 9.09, 'K': 9.16, 'D': 9.66, 'E': 9.58, 'S': 9.05, 'T': 8.96, 'N': 8.76, 'Q': 9.00, 'C': 10.28, 'U': 10.00, 'G': 9.58, 'P': 10.47, 'A': 9.71, 'V': 9.52, 'I': 9.60, 'L': 9.58, 'M': 9.08, 'F': 9.09, 'Y': 9.04, 'W': 9.34}\n",
    "\n",
    "C_terms = {'R': 2.03, 'H': 1.70, 'K': 2.15, 'D': 1.95, 'E': 2.16, 'S': 2.13, 'T': 2.20, 'N': 2.16, 'Q': 2.18, 'C': 1.91, 'U': 1.90, 'G': 2.34, 'P': 1.95, 'A': 2.33, 'V': 2.27, 'I': 2.26, 'L': 2.32, 'M': 2.16, 'F': 2.18, 'Y': 2.24, 'W': 2.38}\n",
    "\n",
    "pos_side_groups = {'R': 12.10, 'H': 6.04, 'K': 10.67}\n",
    "\n",
    "neg_side_groups = {'D': 3.71, 'E': 4.15, 'C': 8.14, 'Y': 10.10}"
   ]
  },
  {
   "cell_type": "markdown",
   "metadata": {},
   "source": [
    "Creates a function that will calculate the net charge of the peptide using a given pH and peptide sequence."
   ]
  },
  {
   "cell_type": "code",
   "execution_count": 3,
   "metadata": {},
   "outputs": [],
   "source": [
    "def net_charge(pH, peptide_sequence):\n",
    "    \n",
    "    # Turns the peptide sequence into a list of the individual letters\n",
    "    sequence_aas = list(peptide_sequence)\n",
    "    \n",
    "    # The positive and negative charges will be added to later after iterating through the list\n",
    "    positive_charge = 0\n",
    "    negative_charge = 0\n",
    "    \n",
    "    # Assigns the pKa of the N- and C-termnials based on which amino acid they correspond to\n",
    "    N_terminal = N_terms[sequence_aas[0]]\n",
    "    C_terminal = C_terms[sequence_aas[-1]]\n",
    "    \n",
    "    # Adds charge value to the positive and negative charges for amino acids with charged side groups\n",
    "    for aa in sequence_aas:\n",
    "        if aa in pos_side_groups:\n",
    "            positive_charge += 10**pos_side_groups[aa] / (10**pH + 10**pos_side_groups[aa])\n",
    "        elif aa in neg_side_groups:\n",
    "            negative_charge += 10**pH / (10**neg_side_groups[aa] + 10**pH)\n",
    "        else:\n",
    "            continue\n",
    "            \n",
    "    # Adds charge for the terminals using the pKas assigned earlier\n",
    "    positive_charge += 10**N_terminal / (10**pH + 10**N_terminal)\n",
    "    negative_charge += 10**pH / (10**pH + 10**C_terminal)\n",
    "    \n",
    "    # Calculates overall charge\n",
    "    overall_charge = positive_charge - negative_charge\n",
    "\n",
    "    return overall_charge"
   ]
  },
  {
   "cell_type": "markdown",
   "metadata": {},
   "source": [
    "To calculate charges at all pH (in increments of 0.1 from 0.1 to 14) for a peptide sequence:"
   ]
  },
  {
   "cell_type": "code",
   "execution_count": 4,
   "metadata": {},
   "outputs": [],
   "source": [
    "def all_charges():\n",
    "    pH = 0.1\n",
    "    peptide_sequence = input(\"Insert the peptide sequence, from N-terminal to C-terminal: \")\n",
    "    pH_charge_dict = {}\n",
    "    while pH < 14:\n",
    "        net_charge(pH, peptide_sequence)\n",
    "        pH_charge_dict[pH] = net_charge(pH, peptide_sequence)\n",
    "        pH += 0.10\n",
    "        \n",
    "    lists = sorted(pH_charge_dict.items())\n",
    "    x, y = zip(*lists) # unpack a list of pairs into two tuples\n",
    "    \n",
    "    \n",
    "    fig, ax1 = plt.subplots(facecolor='white')\n",
    "    \n",
    "    plt.axhline(y=0, color='black', alpha=0.5, lw=1, ls='--') # Plots line at y = 0 to approximate pI (isoelectric point) when graph crosses x-axis\n",
    "    ax1.set_xlabel('pH')\n",
    "    ax1.set_ylabel('Net charge (z)')\n",
    "    \n",
    "    ax1.plot(x, y, '#1D71B8', label=peptide_sequence) \n",
    "    \n",
    "    ax1.tick_params(labelcolor='#2EA2CA')\n",
    "    \n",
    "    ax1.spines['left'].set_color('#111111')\n",
    "    ax1.spines['bottom'].set_color('#111111')\n",
    "    ax1.tick_params(axis='x', colors='black')\n",
    "    ax1.tick_params(axis='y', colors='black')\n",
    "    \n",
    "    #plt.savefig(peptide_sequence + '_charge.pdf', transparent=True, dpi=600)\n",
    "    plt.tight_layout()\n",
    "    plt.show()"
   ]
  },
  {
   "cell_type": "code",
   "execution_count": 5,
   "metadata": {},
   "outputs": [
    {
     "name": "stdin",
     "output_type": "stream",
     "text": [
      "Insert the peptide sequence, from N-terminal to C-terminal:  TFFYGGSRGKRNNFKTEEY\n"
     ]
    },
    {
     "data": {
      "image/png": "[encoded data removed]",
      "text/plain": [
       "<Figure size 432x288 with 1 Axes>"
      ]
     },
     "metadata": {},
     "output_type": "display_data"
    }
   ],
   "source": [
    "all_charges()"
   ]
  }
 ],
 "metadata": {
  "kernelspec": {
   "display_name": "Python 3",
   "language": "python",
   "name": "python3"
  },
  "language_info": {
   "codemirror_mode": {
    "name": "ipython",
    "version": 3
   },
   "file_extension": ".py",
   "mimetype": "text/x-python",
   "name": "python",
   "nbconvert_exporter": "python",
   "pygments_lexer": "ipython3",
   "version": "3.6.9"
  }
 },
 "nbformat": 4,
 "nbformat_minor": 4
}
